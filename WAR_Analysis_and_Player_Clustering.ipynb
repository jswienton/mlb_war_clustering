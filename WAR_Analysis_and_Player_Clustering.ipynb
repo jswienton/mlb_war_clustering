{
 "cells": [
  {
   "cell_type": "markdown",
   "id": "5d39a1c4",
   "metadata": {},
   "source": [
    "# 📊 MLB WAR Analysis\n",
    "\n",
    "This project analyzes Major League Baseball player data to:\n",
    "- Explore relationships between offensive stats and WAR\n",
    "- Build a linear regression model to estimate WAR\n",
    "- Perform clustering to group similar player profiles\n",
    "- Visualize key findings\n",
    "\n",
    "The analysis is done using Python in Google Colab and is meant to showcase basic machine learning, data preprocessing, and exploratory data analysis skills."
   ]
  },
  {
   "cell_type": "code",
   "execution_count": null,
   "id": "5583e47d",
   "metadata": {},
   "outputs": [],
   "source": [
    "import pandas as pd\n",
    "import numpy as np\n",
    "import matplotlib.pyplot as plt\n",
    "import seaborn as sns\n",
    "\n",
    "from sklearn.linear_model import LinearRegression\n",
    "from sklearn.model_selection import train_test_split\n",
    "from sklearn.metrics import r2_score, mean_squared_error\n",
    "from sklearn.preprocessing import StandardScaler\n",
    "from sklearn.decomposition import PCA\n",
    "from sklearn.cluster import KMeans\n",
    "from sklearn.metrics import silhouette_score\n",
    "\n",
    "sns.set(style='whitegrid')\n"
   ]
  },
  {
   "cell_type": "markdown",
   "id": "1cd15d68",
   "metadata": {},
   "source": [
    "## 📥 Load and Clean the Data"
   ]
  },
  {
   "cell_type": "code",
   "execution_count": null,
   "id": "b3be6b79",
   "metadata": {},
   "outputs": [],
   "source": [
    "# Load CSV\n",
    "df = pd.read_csv('WAR Stats.csv')\n",
    "\n",
    "# Standardize column names\n",
    "df.columns = df.columns.str.strip().str.lower().str.replace(' ', '_').str.replace('+', 'plus').str.replace('%', 'percent')\n",
    "\n",
    "# View cleaned columns\n",
    "df.columns.tolist()"
   ]
  },
  {
   "cell_type": "markdown",
   "id": "95409197",
   "metadata": {},
   "source": [
    "## ✨ Feature Selection & Preprocessing"
   ]
  },
  {
   "cell_type": "code",
   "execution_count": null,
   "id": "c898d52f",
   "metadata": {},
   "outputs": [],
   "source": [
    "# Features for modeling\n",
    "features = [\n",
    "    'on_base_percent', 'slg_percent', 'isolated_power',\n",
    "    'k_percent', 'bb_percent', 'exit_velocity_avg',\n",
    "    'sprint_speed', 'wrcplus', 'f_fielding', 'spd'\n",
    "]\n",
    "\n",
    "# Drop rows with missing values\n",
    "df = df.dropna(subset=features + ['war'])\n",
    "\n",
    "# Prepare features and target\n",
    "X = df[features]\n",
    "y = df['war']"
   ]
  },
  {
   "cell_type": "markdown",
   "id": "844cecc4",
   "metadata": {},
   "source": [
    "## 📈 Linear Regression to Estimate WAR"
   ]
  },
  {
   "cell_type": "code",
   "execution_count": null,
   "id": "68f6b9cd",
   "metadata": {},
   "outputs": [],
   "source": [
    "X_train, X_test, y_train, y_test = train_test_split(X, y, test_size=0.2, random_state=42)\n",
    "\n",
    "lr = LinearRegression()\n",
    "lr.fit(X_train, y_train)\n",
    "\n",
    "# Evaluate\n",
    "y_pred = lr.predict(X_test)\n",
    "print(f\"R²: {r2_score(y_test, y_pred):.3f}\")\n",
    "print(f\"RMSE: {mean_squared_error(y_test, y_pred, squared=False):.3f}\")\n",
    "\n",
    "# Feature importances\n",
    "print(\"\\n🔍 Feature Importances for WAR:\")\n",
    "for col, coef in zip(X.columns, lr.coef_):\n",
    "    print(f\"{col}: {coef:.3f}\")\n"
   ]
  },
  {
   "cell_type": "markdown",
   "id": "27a3b648",
   "metadata": {},
   "source": [
    "## 🎯 Clustering Players by Stat Profile"
   ]
  },
  {
   "cell_type": "code",
   "execution_count": null,
   "id": "685b03ee",
   "metadata": {},
   "outputs": [],
   "source": [
    "# Scale features\n",
    "scaler = StandardScaler()\n",
    "X_scaled = scaler.fit_transform(X)\n",
    "\n",
    "# PCA for visualization\n",
    "pca = PCA(n_components=2)\n",
    "X_pca = pca.fit_transform(X_scaled)\n",
    "\n",
    "# Best number of clusters using silhouette score\n",
    "scores = {}\n",
    "for k in range(2, 10):\n",
    "    km = KMeans(n_clusters=k, random_state=42)\n",
    "    labels = km.fit_predict(X_scaled)\n",
    "    scores[k] = silhouette_score(X_scaled, labels)\n",
    "\n",
    "best_k = max(scores, key=scores.get)\n",
    "print(f\"Best number of clusters: {best_k}\")\n",
    "\n",
    "# Final clustering\n",
    "kmeans = KMeans(n_clusters=best_k, random_state=42)\n",
    "df['cluster'] = kmeans.fit_predict(X_scaled)\n",
    "df['PC1'] = X_pca[:, 0]\n",
    "df['PC2'] = X_pca[:, 1]\n"
   ]
  },
  {
   "cell_type": "markdown",
   "id": "36a3398d",
   "metadata": {},
   "source": [
    "## 🧬 Cluster Visualization (PCA)"
   ]
  },
  {
   "cell_type": "code",
   "execution_count": null,
   "id": "c8ca8be9",
   "metadata": {},
   "outputs": [],
   "source": [
    "plt.figure(figsize=(10, 6))\n",
    "sns.scatterplot(data=df, x='PC1', y='PC2', hue='cluster', palette='tab10')\n",
    "plt.title('Player Clusters (PCA-reduced)')\n",
    "plt.xlabel('Principal Component 1')\n",
    "plt.ylabel('Principal Component 2')\n",
    "plt.legend(title='Cluster')\n",
    "plt.show()\n"
   ]
  },
  {
   "cell_type": "markdown",
   "id": "ec067ee6",
   "metadata": {},
   "source": [
    "## 👥 Example Players by Cluster"
   ]
  },
  {
   "cell_type": "code",
   "execution_count": null,
   "id": "0476c2f3",
   "metadata": {},
   "outputs": [],
   "source": [
    "for c in sorted(df['cluster'].unique()):\n",
    "    print(f\"\\nCluster {c} example players:\")\n",
    "    display(df[df['cluster'] == c][['first', 'last', 'on_base_percent', 'slg_percent', 'wrcplus', 'war']].head())\n"
   ]
  }
 ],
 "metadata": {
  "colab": {
   "provenance": []
  },
  "kernelspec": {
   "display_name": "Python 3",
   "name": "python3"
  },
  "language_info": {
   "name": "python"
  }
 },
 "nbformat": 4,
 "nbformat_minor": 5
}
